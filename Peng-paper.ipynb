{
 "cells": [
  {
   "cell_type": "markdown",
   "metadata": {},
   "source": [
    "# Initialize"
   ]
  },
  {
   "cell_type": "code",
   "execution_count": null,
   "metadata": {},
   "outputs": [],
   "source": [
    "# make sure qtplotter.py is in the same folder as this notebook\n",
    "# Environment needs matplotlib, scipy, ipympl\n",
    "from qtplotter import *\n",
    "%matplotlib inline"
   ]
  },
  {
   "cell_type": "code",
   "execution_count": null,
   "metadata": {},
   "outputs": [],
   "source": [
    "# Some functions of qtplotter\n",
    "\n",
    "print('The functions:')\n",
    "print('Operation:', end = '')\n",
    "print([i for i in dir(Operation) if not i.startswith('__')])\n",
    "print('Data:', end = '')\n",
    "print([i for i in dir(Data2d) if not i.startswith('__')])\n",
    "print('Painter:', end = '')\n",
    "print([i for i in dir(Painter) if not i.startswith('__')])\n",
    "print('High level:', end = '')\n",
    "print(['read2d', 'plot', 'play'])"
   ]
  },
  {
   "cell_type": "markdown",
   "metadata": {},
   "source": [
    "## Data path"
   ]
  },
  {
   "cell_type": "code",
   "execution_count": null,
   "metadata": {},
   "outputs": [],
   "source": [
    "path = '' # data file path"
   ]
  },
  {
   "cell_type": "markdown",
   "metadata": {},
   "source": [
    "# Interact with the data"
   ]
  },
  {
   "cell_type": "markdown",
   "metadata": {},
   "source": [
    "## Main Figures"
   ]
  },
  {
   "cell_type": "code",
   "execution_count": null,
   "metadata": {},
   "outputs": [],
   "source": [
    "# Select data to play around for main figures\n",
    "s = ['Fig1c', 'Fig1d', 'Fig2a', 'Fig2d', 'Fig2f', 'Fig3a', 'Fig3b', 'Fig4a', 'Fig4b', 'Fig5a', 'Fig5b'] \n",
    "fig_data = path + '%s.mtx'%(s[0]) # It can also be replaced with eg. Fig1c\n",
    "play(fig_data)"
   ]
  },
  {
   "cell_type": "markdown",
   "metadata": {},
   "source": [
    "## Supplementary figures"
   ]
  },
  {
   "cell_type": "code",
   "execution_count": null,
   "metadata": {},
   "outputs": [],
   "source": [
    "# Select data to play around for main figures\n",
    "s2 = ['Figs2a', 'Figs2b']\n",
    "s3 = ['Figs3a', 'Figs3b', 'Figs3d', 'Figs3e']\n",
    "s4 = ['Figs4c', 'Figs4d', 'Figs4e', 'Figs4f']\n",
    "s5 = ['Figs5a', 'Figs5b', 'Figs5c', 'Figs5d', 'Figs5e', 'Figs5f', 'Figs5g', 'Figs5h', 'Figs5i', 'Figs5j']\n",
    "s6 = ['Figs6a', 'Figs6b', 'Figs6c', 'Figs6d']\n",
    "s7 = ['Figs7a', 'Figs7b', 'Figs7c', 'Figs7d']\n",
    "s8 = ['Figs8a1', 'Figs8a2', 'Figs8b1', 'Figs8b2', 'Figs8c1', 'Figs8c2', 'Figs8d1', 'Figs8d2']\n",
    "s9 = ['Figs9a', 'Figs9b']\n",
    "s10 = ['Figs10a1', 'Figs10a2', 'Figs10b1', 'Figs10b2', 'Figs10c1', 'Figs10c2', 'Figs10d1', 'Figs10d2', 'Figs10e1', 'Figs10e2', 'Figs10f1', 'Figs10f2']\n",
    "s11 = ['Figs11a', 'Figs11b']\n",
    "s12 = ['Figs12a', 'Figs12b']\n",
    "fig_data = path + '%s.mtx'%(s2[0])\n",
    "play(fig_data)"
   ]
  },
  {
   "cell_type": "markdown",
   "metadata": {},
   "source": [
    "# Static Figure plots"
   ]
  },
  {
   "cell_type": "markdown",
   "metadata": {},
   "source": [
    "## Main Figures"
   ]
  },
  {
   "cell_type": "code",
   "execution_count": null,
   "metadata": {
    "scrolled": false
   },
   "outputs": [],
   "source": [
    "for s in ['Fig1c', 'Fig1d', 'Fig2a', 'Fig2d', 'Fig2f', 'Fig3a', 'Fig3b', 'Fig4a', 'Fig4b', 'Fig5a', 'Fig5b']:\n",
    " fig_data = path + '%s.mtx'%(s)\n",
    " plot (fig_data)"
   ]
  },
  {
   "cell_type": "markdown",
   "metadata": {},
   "source": [
    "## Plot main figures separately"
   ]
  },
  {
   "cell_type": "markdown",
   "metadata": {},
   "source": [
    "### Figure 1"
   ]
  },
  {
   "cell_type": "code",
   "execution_count": null,
   "metadata": {},
   "outputs": [],
   "source": [
    "for s in ['Fig1c', 'Fig1d']:\n",
    " fig_data = path + '%s.mtx'%(s)\n",
    " plot (fig_data)"
   ]
  },
  {
   "cell_type": "markdown",
   "metadata": {},
   "source": [
    "### Figure 2"
   ]
  },
  {
   "cell_type": "code",
   "execution_count": null,
   "metadata": {},
   "outputs": [],
   "source": [
    "for s in ['Fig2a', 'Fig2d', 'Fig2f']:\n",
    " fig_data = path + '%s.mtx'%(s)\n",
    " plot (fig_data)"
   ]
  },
  {
   "cell_type": "markdown",
   "metadata": {},
   "source": [
    "### Figure 3"
   ]
  },
  {
   "cell_type": "code",
   "execution_count": null,
   "metadata": {},
   "outputs": [],
   "source": [
    "for s in ['Fig3a', 'Fig3b']:\n",
    " fig_data = path + '%s.mtx'%(s)\n",
    " plot (fig_data)"
   ]
  },
  {
   "cell_type": "markdown",
   "metadata": {},
   "source": [
    "### Figure 4"
   ]
  },
  {
   "cell_type": "code",
   "execution_count": null,
   "metadata": {},
   "outputs": [],
   "source": [
    "for s in ['Fig4a', 'Fig4b']:\n",
    " fig_data = path + '%s.mtx'%(s)\n",
    " plot (fig_data)"
   ]
  },
  {
   "cell_type": "markdown",
   "metadata": {},
   "source": [
    "### Figure 5"
   ]
  },
  {
   "cell_type": "code",
   "execution_count": null,
   "metadata": {},
   "outputs": [],
   "source": [
    "for s in ['Fig5a', 'Fig5b']:\n",
    " fig_data = path + '%s.mtx'%(s)\n",
    " plot (fig_data)"
   ]
  },
  {
   "cell_type": "markdown",
   "metadata": {},
   "source": [
    "## Supplementary figures"
   ]
  },
  {
   "cell_type": "markdown",
   "metadata": {},
   "source": [
    "### Figure S2"
   ]
  },
  {
   "cell_type": "code",
   "execution_count": null,
   "metadata": {},
   "outputs": [],
   "source": [
    "for s in ['Figs2a', 'Figs2b']:\n",
    " plot (fig_data)"
   ]
  },
  {
   "cell_type": "markdown",
   "metadata": {},
   "source": [
    "### Figure S3"
   ]
  },
  {
   "cell_type": "code",
   "execution_count": null,
   "metadata": {},
   "outputs": [],
   "source": [
    "for s in ['Figs3a', 'Figs3b', 'Figs3d', 'Figs3e']:\n",
    " fig_data = path + '%s.mtx'%(s)\n",
    " plot (fig_data)"
   ]
  },
  {
   "cell_type": "code",
   "execution_count": null,
   "metadata": {},
   "outputs": [],
   "source": [
    "## We can plot S3 with costumized gamma value\n",
    "kw = {'gamma':60}#colorbar\n",
    "fig_data = path + '%s.mtx'%('Figs3b')\n",
    "print (fig_data)\n",
    "plot ('/Users/Kun/Downloads/Data/Figs3b.mtx', **kw)"
   ]
  },
  {
   "cell_type": "markdown",
   "metadata": {},
   "source": [
    "### Figure S4"
   ]
  },
  {
   "cell_type": "code",
   "execution_count": null,
   "metadata": {},
   "outputs": [],
   "source": [
    "for s in ['Figs4c', 'Figs4d', 'Figs4e', 'Figs4f']:\n",
    " fig_data = path + '%s.mtx'%(s)\n",
    " plot (fig_data)"
   ]
  },
  {
   "cell_type": "markdown",
   "metadata": {},
   "source": [
    "### Figure S5"
   ]
  },
  {
   "cell_type": "code",
   "execution_count": null,
   "metadata": {},
   "outputs": [],
   "source": [
    "for s in ['Figs5a', 'Figs5b', 'Figs5c', 'Figs5d', 'Figs5e', 'Figs5f', 'Figs5g', 'Figs5h', 'Figs5i', 'Figs5j']:\n",
    " fig_data = path + '%s.mtx'%(s)\n",
    " plot (fig_data)"
   ]
  },
  {
   "cell_type": "markdown",
   "metadata": {},
   "source": [
    "### Figure S6"
   ]
  },
  {
   "cell_type": "code",
   "execution_count": null,
   "metadata": {},
   "outputs": [],
   "source": [
    "for s in ['Figs6a', 'Figs6b', 'Figs6c', 'Figs6d']:\n",
    " fig_data = path + '%s.mtx'%(s)\n",
    " plot (fig_data)"
   ]
  },
  {
   "cell_type": "markdown",
   "metadata": {},
   "source": [
    "### Figure S7"
   ]
  },
  {
   "cell_type": "code",
   "execution_count": null,
   "metadata": {},
   "outputs": [],
   "source": [
    "for s in ['Figs7a', 'Figs7b', 'Figs7c', 'Figs7d']:\n",
    " fig_data = path + '%s.mtx'%(s)\n",
    " plot (fig_data)"
   ]
  },
  {
   "cell_type": "markdown",
   "metadata": {},
   "source": [
    "### Figure S8"
   ]
  },
  {
   "cell_type": "code",
   "execution_count": null,
   "metadata": {},
   "outputs": [],
   "source": [
    "for s in ['Figs8a1', 'Figs8a2', 'Figs8b1', 'Figs8b2', 'Figs8c1', 'Figs8c2', 'Figs8d1', 'Figs8d2']:\n",
    " fig_data = path + '%s.mtx'%(s)\n",
    " plot (fig_data)"
   ]
  },
  {
   "cell_type": "markdown",
   "metadata": {},
   "source": [
    "### Figure S9"
   ]
  },
  {
   "cell_type": "code",
   "execution_count": null,
   "metadata": {},
   "outputs": [],
   "source": [
    "for s in ['Figs9a', 'Figs9b']:\n",
    " fig_data = path + '%s.mtx'%(s)\n",
    " plot (fig_data)"
   ]
  },
  {
   "cell_type": "markdown",
   "metadata": {},
   "source": [
    "### Figure S10"
   ]
  },
  {
   "cell_type": "code",
   "execution_count": null,
   "metadata": {},
   "outputs": [],
   "source": [
    "for s in ['Figs10a1', 'Figs10a2', 'Figs10b1', 'Figs10b2', 'Figs10c1', 'Figs10c2', 'Figs10d1', 'Figs10d2', 'Figs10e1', 'Figs10e2', 'Figs10f1', 'Figs10f2']:\n",
    " fig_data = path + '%s.mtx'%(s)\n",
    " plot (fig_data)"
   ]
  },
  {
   "cell_type": "markdown",
   "metadata": {},
   "source": [
    "### Figure S11"
   ]
  },
  {
   "cell_type": "code",
   "execution_count": null,
   "metadata": {},
   "outputs": [],
   "source": [
    "for s in ['Figs11a', 'Figs11b']:\n",
    " fig_data = path + '%s.mtx'%(s)\n",
    " plot (fig_data)"
   ]
  },
  {
   "cell_type": "markdown",
   "metadata": {},
   "source": [
    "### Figure S12"
   ]
  },
  {
   "cell_type": "code",
   "execution_count": null,
   "metadata": {},
   "outputs": [],
   "source": [
    "for s in ['Figs12a', 'Figs12b']:\n",
    " fig_data = path + '%s.mtx'%(s)\n",
    " plot (fig_data)"
   ]
  }
 ],
 "metadata": {
  "kernelspec": {
   "display_name": "Python 3",
   "language": "python",
   "name": "python3"
  },
  "language_info": {
   "codemirror_mode": {
    "name": "ipython",
    "version": 3
   },
   "file_extension": ".py",
   "mimetype": "text/x-python",
   "name": "python",
   "nbconvert_exporter": "python",
   "pygments_lexer": "ipython3",
   "version": "3.7.3"
  }
 },
 "nbformat": 4,
 "nbformat_minor": 2
}
